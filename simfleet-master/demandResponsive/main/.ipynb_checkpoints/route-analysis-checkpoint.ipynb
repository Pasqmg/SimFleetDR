{
 "cells": [
  {
   "cell_type": "code",
   "execution_count": 1,
   "id": "initial_id",
   "metadata": {
    "ExecuteTime": {
     "end_time": "2024-12-16T16:03:46.939363Z",
     "start_time": "2024-12-16T16:03:46.810487Z"
    }
   },
   "outputs": [],
   "source": [
    "\n",
    "from main import database, itinerary, request, scheduler\n",
    "from main.database import Database\n",
    "\n",
    "VERBOSE = 0\n",
    "\n",
    "\n",
    "def request_from_db(config_file):\n",
    "    \"\"\"\n",
    "    Creation of Request objects from customer information in the configuration file\n",
    "    \"\"\"\n",
    "    db = database.Database(config_file)\n",
    "    customers = db.get_customers()\n",
    "    requests = []\n",
    "    for customer in customers:\n",
    "        customer_id = customer\n",
    "        passenger_id = customer_id\n",
    "        attributes = db.get_customer_dic(passenger_id)\n",
    "\n",
    "        coords = db.get_customer_origin(customer_id)\n",
    "        origin_id = db.get_stop_id([coords[1], coords[0]])\n",
    "\n",
    "        coords = db.get_customer_destination(customer_id)\n",
    "        destination_id = db.get_stop_id([coords[1], coords[0]])\n",
    "\n",
    "        req = request.Request(db, passenger_id, origin_id, destination_id,\n",
    "                              attributes.get(\"origin_time_ini\"), attributes.get(\"origin_time_end\"),\n",
    "                              attributes.get(\"destination_time_ini\"), attributes.get(\"destination_time_end\"),\n",
    "                              attributes.get(\"npass\"))\n",
    "\n",
    "        requests.append(req)\n",
    "        if VERBOSE > 0:\n",
    "            print(\"Created request from configuration file:\")\n",
    "            print(req.to_string())\n",
    "    return requests\n",
    "\n",
    "\n",
    "def itinerary_from_db(config_file):\n",
    "    \"\"\"\n",
    "    Creation of initial Itinerary objects from vehicle information in the configuration file.\n",
    "    Initial itineraries contain as first and last stop the warehouse where the vehicle is stored.\n",
    "\n",
    "    Initialization of itinerary_insertion_dic, a data structure reflecting the insertions contained in each itinerary.\n",
    "    \"\"\"\n",
    "    db = database.Database(config_file)\n",
    "    transports = db.get_transports()\n",
    "    itineraries = []\n",
    "    itinerary_insertion_dic = {}\n",
    "    for transport in transports:\n",
    "        vehicle_id = transport\n",
    "\n",
    "        coords = db.get_transport_origin(vehicle_id)\n",
    "        start_stop_id = db.get_stop_id([coords[1], coords[0]])\n",
    "\n",
    "        coords = db.get_transport_destination(vehicle_id)\n",
    "        end_stop_id = db.get_stop_id([coords[1], coords[0]])\n",
    "\n",
    "        attributes = db.get_transport_dic(vehicle_id)\n",
    "\n",
    "        I = itinerary.Itinerary(db, vehicle_id, attributes.get(\"capacity\"), start_stop_id, end_stop_id,\n",
    "                                attributes.get(\"start_time\"), attributes.get(\"end_time\"))\n",
    "        itineraries.append(I)\n",
    "        itinerary_insertion_dic[vehicle_id] = []\n",
    "        if VERBOSE > 0:\n",
    "            print(\"Created itinerary from configuration file:\")\n",
    "            print(I.to_string())\n",
    "            print(I.start_stop.to_string())\n",
    "            print(I.end_stop.to_string())\n",
    "    return itineraries, itinerary_insertion_dic"
   ]
  },
  {
   "cell_type": "code",
   "execution_count": 2,
   "id": "7e06fbd06fe73ea8",
   "metadata": {
    "ExecuteTime": {
     "end_time": "2024-12-16T16:03:53.118069Z",
     "start_time": "2024-12-16T16:03:46.989291Z"
    }
   },
   "outputs": [],
   "source": [
    "config_file = \"150r-2000m-60_900-1_5p+10v-8cap-0_960.json\"\n",
    "# Load itineraries from config file\n",
    "itineraries, itinerary_insertion_dic = itinerary_from_db(config_file)\n",
    "\n",
    "# Load requests from config file\n",
    "requests = request_from_db(config_file)\n",
    "\n",
    "# Create and initialize scheduler object\n",
    "sche = scheduler.Scheduler(config_file)\n",
    "sche.pending_requests = requests\n",
    "sche.itineraries = itineraries\n",
    "sche.itinerary_insertion_dic = itinerary_insertion_dic\n",
    "\n",
    "# Schedule all requests by order of issuance\n",
    "sche.schedule_all_requests_by_time_order(verbose=0)\n",
    "# output = sche.simulation_stats()"
   ]
  },
  {
   "cell_type": "markdown",
   "id": "14744a9345857f11",
   "metadata": {},
   "source": [
    "# Neighbouring stops"
   ]
  },
  {
   "cell_type": "code",
   "execution_count": 4,
   "id": "fac1565a483126b0",
   "metadata": {
    "ExecuteTime": {
     "end_time": "2024-12-16T16:03:58.563485Z",
     "start_time": "2024-12-16T16:03:57.140601Z"
    }
   },
   "outputs": [
    {
     "name": "stdout",
     "output_type": "stream",
     "text": [
      "  0: [1, 2]\n",
      "  1: [0]\n",
      "  2: [0]\n",
      "  3: [10, 11, 48]\n",
      "  4: [25, 37, 38, 47, 71]\n",
      "  5: [6]\n",
      "  6: [5]\n",
      "  7: [8, 22, 27, 30, 33, 42]\n",
      "  8: [7, 22, 27, 30, 33]\n",
      "  9: [12, 14, 15, 17, 65]\n",
      " 10: [3, 11, 20]\n",
      " 11: [3, 10, 20]\n",
      " 12: [9, 14, 15, 16, 17, 65]\n",
      " 13: [14, 15, 16, 17]\n",
      " 14: [9, 12, 13, 15, 16, 17]\n",
      " 15: [9, 12, 13, 14, 16, 17]\n",
      " 16: [13, 14, 15, 17]\n",
      " 17: [9, 12, 13, 14, 15, 16, 65]\n",
      " 18: [44, 50, 72, 73]\n",
      " 19: [64]\n",
      " 20: [10, 11]\n",
      " 21: [34, 40, 70]\n",
      " 22: [7, 8, 27, 42]\n",
      " 23: [41, 63, 69]\n",
      " 24: [34, 43, 70]\n",
      " 25: [4, 37, 39, 47, 71]\n",
      " 26: [46, 63, 69]\n",
      " 27: [7, 8, 22, 33, 42]\n",
      " 28: [49]\n",
      " 29: [67, 68]\n",
      " 30: [7, 8, 33]\n",
      " 31: [32]\n",
      " 32: [31]\n",
      " 33: [7, 8, 27, 30]\n",
      " 34: [21, 24, 40, 43, 70]\n",
      " 35: []\n",
      " 36: []\n",
      " 37: [4, 25, 38, 39, 47, 71]\n",
      " 38: [4, 37, 39, 71]\n",
      " 39: [25, 37, 38, 47, 71]\n",
      " 40: [21, 34, 70]\n",
      " 41: [23, 63, 69]\n",
      " 42: [7, 22, 27]\n",
      " 43: [24, 34, 70]\n",
      " 44: [18, 72, 73]\n",
      " 45: [48]\n",
      " 46: [26, 49, 63]\n",
      " 47: [4, 25, 37, 38, 39, 71]\n",
      " 48: [3, 45]\n",
      " 49: [28, 46, 63]\n",
      " 50: [18, 73]\n",
      " 51: [52, 66]\n",
      " 52: [51, 54, 55, 66]\n",
      " 53: [54, 55, 56]\n",
      " 54: [52, 53, 55, 56]\n",
      " 55: [52, 53, 54, 56]\n",
      " 56: [53, 54, 55]\n",
      " 57: [58, 59, 60, 61, 62]\n",
      " 58: [57, 59, 60, 61, 62]\n",
      " 59: [57, 58, 60, 62]\n",
      " 60: [57, 58, 59, 61, 62]\n",
      " 61: [57, 58, 59, 60, 62]\n",
      " 62: [57, 58, 59, 60, 61]\n",
      " 63: [23, 26, 41, 46, 49, 69]\n",
      " 64: [19]\n",
      " 65: [9, 12, 17]\n",
      " 66: [51, 52]\n",
      " 67: [29, 68]\n",
      " 68: [29, 67]\n",
      " 69: [23, 26, 41, 63]\n",
      " 70: [21, 24, 34, 40, 43]\n",
      " 71: [25, 37, 38, 39, 47]\n",
      " 72: [18, 44, 73]\n",
      " 73: [18, 44, 50, 72]\n",
      "\n"
     ]
    }
   ],
   "source": [
    "db = sche.db\n",
    "for i in range(0, len(db.stops_dic['features'])):\n",
    "    print(f\"{i:3d}: {[x[0] for x in db.get_neighbouring_stops(stop_id=i, max_distance_km=1)]}\")\n",
    "print()"
   ]
  },
  {
   "cell_type": "code",
   "execution_count": 3,
   "id": "903491e695de9d3e",
   "metadata": {
    "ExecuteTime": {
     "end_time": "2024-12-16T16:03:53.145292Z",
     "start_time": "2024-12-16T16:03:53.139054Z"
    }
   },
   "outputs": [
    {
     "name": "stdout",
     "output_type": "stream",
     "text": [
      "veh_01_31, 391.9183333333334\n",
      "\t31 --> 32, 0.65, None\n",
      "\t32 --> 33, 22.41, request_008_1\n",
      "\t33 --> 33, 0.00, request_008_1\n",
      "\t33 --> 27, 1.27, request_020_1\n",
      "\t27 --> 45, 12.53, request_025_1\n",
      "\t45 --> 13, 27.68, request_020_1\n",
      "\t13 --> 65, 2.43, request_025_1\n",
      "\t65 --> 19, 4.90, request_037_1\n",
      "\t19 -->  9, 4.50, request_035_3\n",
      "\t 9 --> 67, 8.09, request_041_2\n",
      "\t67 --> 50, 21.45, request_037_1\n",
      "\t50 --> 40, 22.97, request_035_3\n",
      "\t40 --> 34, 0.94, request_041_2\n",
      "\t34 --> 20, 5.14, request_059_2\n",
      "\t20 --> 38, 28.13, request_061_1\n",
      "\t38 --> 58, 19.35, request_059_2\n",
      "\t58 --> 62, 1.05, request_071_1\n",
      "\t62 --> 61, 2.44, request_070_1\n",
      "\t61 --> 20, 31.65, request_061_1\n",
      "\t20 --> 31, 17.20, request_071_1\n",
      "\t31 --> 32, 0.65, request_070_1\n",
      "\t32 -->  3, 14.87, request_132_1\n",
      "\t 3 --> 22, 11.34, request_132_1\n",
      "\t22 -->  2, 13.20, request_136_1\n",
      "\t 2 --> 17, 28.73, request_137_1\n",
      "\t17 --> 14, 0.79, request_136_1\n",
      "\t14 --> 46, 23.50, request_137_1\n",
      "\t46 --> 63, 1.27, request_143_2\n",
      "\t63 --> 45, 28.79, request_146_1\n",
      "\t45 --> 30, 10.82, request_143_2\n",
      "\t30 --> 31, 23.16, request_146_1\n",
      "\t31 --> None, 0.00, None\n"
     ]
    }
   ],
   "source": [
    "I = sche.itineraries[0]\n",
    "# Cost of an itinerary (sum of all leg times)\n",
    "print(f\"{I.vehicle_id}, {I.cost}\")\n",
    "for S in I.stop_list:\n",
    "    # Cost of an itinerary leg (going from S to S.snext)\n",
    "    try:\n",
    "        print(f\"\\t{S.id:2d} --> {S.snext.id:2d}, {S.leg_time:3.2f}, {S.passenger_id}\")\n",
    "    except AttributeError:\n",
    "        print(f\"\\t{S.id:2d} --> None, {S.leg_time:3.2f}, {S.passenger_id}\")"
   ]
  },
  {
   "cell_type": "code",
   "execution_count": 4,
   "id": "674c25d098402894",
   "metadata": {
    "ExecuteTime": {
     "end_time": "2024-12-16T16:03:53.180366Z",
     "start_time": "2024-12-16T16:03:53.175360Z"
    }
   },
   "outputs": [
    {
     "name": "stdout",
     "output_type": "stream",
     "text": [
      "veh_01_31 :: leg  31 -->  32, 0.65, request_008_1\n",
      "veh_01_31 :: leg  32 -->  33, 22.41, request_008_1\n",
      "veh_01_31 :: leg  33 -->  33, 0.00, request_020_1\n",
      "veh_01_31 :: leg  33 -->  27, 1.27, request_025_1\n",
      "veh_01_31 :: leg  27 -->  45, 12.53, request_020_1\n",
      "veh_01_31 :: leg  45 -->  13, 27.68, request_025_1\n",
      "veh_01_31 :: leg  13 -->  65, 2.43, request_037_1\n",
      "veh_01_31 :: leg  65 -->  19, 4.90, request_035_3\n",
      "veh_01_31 :: leg  19 -->   9, 4.50, request_041_2\n",
      "veh_01_31 :: leg   9 -->  67, 8.09, request_037_1\n",
      "veh_01_31 :: leg  67 -->  50, 21.45, request_035_3\n",
      "veh_01_31 :: leg  50 -->  40, 22.97, request_041_2\n",
      "veh_01_31 :: leg  40 -->  34, 0.94, request_059_2\n",
      "veh_01_31 :: leg  34 -->  20, 5.14, request_061_1\n",
      "veh_01_31 :: leg  20 -->  38, 28.13, request_059_2\n",
      "veh_01_31 :: leg  38 -->  58, 19.35, request_071_1\n",
      "veh_01_31 :: leg  58 -->  62, 1.05, request_070_1\n",
      "veh_01_31 :: leg  62 -->  61, 2.44, request_061_1\n",
      "veh_01_31 :: leg  61 -->  20, 31.65, request_071_1\n",
      "veh_01_31 :: leg  20 -->  31, 17.20, request_070_1\n",
      "veh_01_31 :: leg  31 -->  32, 0.65, request_132_1\n",
      "veh_01_31 :: leg  32 -->   3, 14.87, request_132_1\n",
      "veh_01_31 :: leg   3 -->  22, 11.34, request_136_1\n",
      "veh_01_31 :: leg  22 -->   2, 13.20, request_137_1\n",
      "veh_01_31 :: leg   2 -->  17, 28.73, request_136_1\n",
      "veh_01_31 :: leg  17 -->  14, 0.79, request_137_1\n",
      "veh_01_31 :: leg  14 -->  46, 23.50, request_143_2\n",
      "veh_01_31 :: leg  46 -->  63, 1.27, request_146_1\n",
      "veh_01_31 :: leg  63 -->  45, 28.79, request_143_2\n",
      "veh_01_31 :: leg  45 -->  30, 10.82, request_146_1\n",
      "veh_01_31 :: leg  30 -->  31, 23.16, None\n",
      "veh_01_31 :: leg  31 --> None, 0.00, DEPOT\n"
     ]
    }
   ],
   "source": [
    "from main.leg import Leg\n",
    "def create_legs_from_itinerary(I):\n",
    "    legs = []\n",
    "    for S in I.stop_list:\n",
    "        T = S.snext\n",
    "        if T is not None:\n",
    "            legs.append(Leg(itinerary=I.vehicle_id, S=S, T=S.snext, passenger_id=S.snext.passenger_id, cost=S.leg_time))\n",
    "        else:\n",
    "            legs.append(Leg(itinerary=I.vehicle_id, S=S, T=None, passenger_id=\"DEPOT\", cost=S.leg_time))\n",
    "    for leg in legs:\n",
    "        print(leg.__str__())\n",
    "    return legs\n",
    "\n",
    "legs = create_legs_from_itinerary(I)"
   ]
  },
  {
   "cell_type": "code",
   "execution_count": 5,
   "id": "ba5b01e06f8940",
   "metadata": {
    "ExecuteTime": {
     "end_time": "2024-12-16T16:03:53.205583Z",
     "start_time": "2024-12-16T16:03:53.203249Z"
    }
   },
   "outputs": [],
   "source": [
    "stop_customer_list = []\n",
    "for S in I.stop_list:\n",
    "    if S.snext is not None:\n",
    "        stop_customer_list.append((S.id, S.passenger_id, S.snext.passenger_id))\n",
    "    else:\n",
    "        stop_customer_list.append((S.id, S.passenger_id, None))"
   ]
  },
  {
   "cell_type": "code",
   "execution_count": 6,
   "id": "6da04fee83bf9bd3",
   "metadata": {
    "ExecuteTime": {
     "end_time": "2024-12-16T16:03:53.229849Z",
     "start_time": "2024-12-16T16:03:53.224113Z"
    }
   },
   "outputs": [
    {
     "data": {
      "text/plain": [
       "[(31, None, 'request_008_1'),\n",
       " (32, 'request_008_1', 'request_008_1'),\n",
       " (33, 'request_008_1', 'request_020_1'),\n",
       " (33, 'request_020_1', 'request_025_1'),\n",
       " (27, 'request_025_1', 'request_020_1'),\n",
       " (45, 'request_020_1', 'request_025_1'),\n",
       " (13, 'request_025_1', 'request_037_1'),\n",
       " (65, 'request_037_1', 'request_035_3'),\n",
       " (19, 'request_035_3', 'request_041_2'),\n",
       " (9, 'request_041_2', 'request_037_1'),\n",
       " (67, 'request_037_1', 'request_035_3'),\n",
       " (50, 'request_035_3', 'request_041_2'),\n",
       " (40, 'request_041_2', 'request_059_2'),\n",
       " (34, 'request_059_2', 'request_061_1'),\n",
       " (20, 'request_061_1', 'request_059_2'),\n",
       " (38, 'request_059_2', 'request_071_1'),\n",
       " (58, 'request_071_1', 'request_070_1'),\n",
       " (62, 'request_070_1', 'request_061_1'),\n",
       " (61, 'request_061_1', 'request_071_1'),\n",
       " (20, 'request_071_1', 'request_070_1'),\n",
       " (31, 'request_070_1', 'request_132_1'),\n",
       " (32, 'request_132_1', 'request_132_1'),\n",
       " (3, 'request_132_1', 'request_136_1'),\n",
       " (22, 'request_136_1', 'request_137_1'),\n",
       " (2, 'request_137_1', 'request_136_1'),\n",
       " (17, 'request_136_1', 'request_137_1'),\n",
       " (14, 'request_137_1', 'request_143_2'),\n",
       " (46, 'request_143_2', 'request_146_1'),\n",
       " (63, 'request_146_1', 'request_143_2'),\n",
       " (45, 'request_143_2', 'request_146_1'),\n",
       " (30, 'request_146_1', None),\n",
       " (31, None, None)]"
      ]
     },
     "execution_count": 6,
     "metadata": {},
     "output_type": "execute_result"
    }
   ],
   "source": [
    "stop_customer_list"
   ]
  },
  {
   "cell_type": "markdown",
   "id": "f300dcfc73887944",
   "metadata": {},
   "source": [
    "### Sii apareixen dues parades amb la mateixa id seguides, més d'un client ha sigut servit amb eixa visita. Encara que coste arribar a eixa parada, ja tenim demanda agrupada, així que no es deuria detectar com a una mala ruta.\n"
   ]
  },
  {
   "cell_type": "markdown",
   "id": "b1bd590de48c0378",
   "metadata": {},
   "source": [
    "### Necessite representar, doncs, el benefici associat a cada \"leg\", encara que siga per mitjà del nombre de clients servits amb cada trajecte\n"
   ]
  },
  {
   "cell_type": "code",
   "execution_count": null,
   "id": "d153845a5f8ad49f",
   "metadata": {
    "ExecuteTime": {
     "end_time": "2024-12-16T16:03:53.271984Z",
     "start_time": "2024-12-16T16:03:53.270438Z"
    }
   },
   "outputs": [],
   "source": []
  },
  {
   "cell_type": "code",
   "execution_count": 7,
   "id": "2f1ed88c311b560f",
   "metadata": {
    "ExecuteTime": {
     "end_time": "2024-12-16T16:03:57.102192Z",
     "start_time": "2024-12-16T16:03:53.281178Z"
    }
   },
   "outputs": [],
   "source": [
    "# Load stops file\n",
    "# Load routes file\n",
    "db = Database(config_file)"
   ]
  },
  {
   "cell_type": "code",
   "execution_count": 8,
   "id": "2dccc057f6883cef",
   "metadata": {
    "ExecuteTime": {
     "end_time": "2024-12-16T16:03:57.121741Z",
     "start_time": "2024-12-16T16:03:57.116454Z"
    }
   },
   "outputs": [],
   "source": [
    "def get_neighbouring_stops(stop_id, max_distance_km=1):\n",
    "    distance_matrix = db.get_distance_matrix()\n",
    "    neighbours = []\n",
    "    for i in range(0, len(distance_matrix[stop_id])):\n",
    "        if i != stop_id:\n",
    "            if distance_matrix[stop_id][i] <= max_distance_km:\n",
    "                neighbours.append((i, distance_matrix[stop_id][i]))\n",
    "    return neighbours"
   ]
  }
 ],
 "metadata": {
  "kernelspec": {
   "display_name": "Python 3 (ipykernel)",
   "language": "python",
   "name": "python3"
  },
  "language_info": {
   "codemirror_mode": {
    "name": "ipython",
    "version": 3
   },
   "file_extension": ".py",
   "mimetype": "text/x-python",
   "name": "python",
   "nbconvert_exporter": "python",
   "pygments_lexer": "ipython3",
   "version": "3.8.19"
  }
 },
 "nbformat": 4,
 "nbformat_minor": 5
}
