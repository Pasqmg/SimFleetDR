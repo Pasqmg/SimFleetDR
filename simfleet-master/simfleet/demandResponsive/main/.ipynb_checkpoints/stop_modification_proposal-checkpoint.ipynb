{
 "cells": [
  {
   "cell_type": "code",
   "id": "initial_id",
   "metadata": {
    "collapsed": true,
    "ExecuteTime": {
     "end_time": "2024-12-16T16:02:03.883750Z",
     "start_time": "2024-12-16T16:02:03.875724Z"
    }
   },
   "source": [
    "from main.database import Database\n",
    "from main.launcher import itinerary_from_db, request_from_db\n",
    "from main.scheduler import Scheduler"
   ],
   "outputs": [],
   "execution_count": 4
  },
  {
   "cell_type": "code",
   "id": "0e7f81a7",
   "metadata": {
    "ExecuteTime": {
     "end_time": "2024-12-16T16:02:03.896746Z",
     "start_time": "2024-12-16T16:02:03.893484Z"
    }
   },
   "source": [
    "config_file = \"150r-2000m-60_900-1_5p+10v-8cap-0_960.json\""
   ],
   "outputs": [],
   "execution_count": 5
  },
  {
   "cell_type": "code",
   "id": "c07ffbc7",
   "metadata": {
    "ExecuteTime": {
     "end_time": "2024-12-16T16:02:19.269183Z",
     "start_time": "2024-12-16T16:02:03.902617Z"
    }
   },
   "source": [
    "# Load itineraries from config file\n",
    "itineraries, itinerary_insertion_dic = itinerary_from_db(config_file)\n",
    "\n",
    "# Load requests from config file\n",
    "requests = request_from_db(config_file)\n",
    "\n",
    "# Create and initialize scheduler object\n",
    "sche = Scheduler(config_file)\n",
    "sche.pending_requests = requests\n",
    "sche.itineraries = itineraries\n",
    "sche.itinerary_insertion_dic = itinerary_insertion_dic\n",
    "\n",
    "# Schedule all requests by order of issuance\n",
    "sche.schedule_all_requests_by_time_order(verbose=0)"
   ],
   "outputs": [],
   "execution_count": 6
  }
 ],
 "metadata": {
  "kernelspec": {
   "display_name": "demandResponsive",
   "language": "python",
   "name": "python3"
  },
  "language_info": {
   "codemirror_mode": {
    "name": "ipython",
    "version": 3
   },
   "file_extension": ".py",
   "mimetype": "text/x-python",
   "name": "python",
   "nbconvert_exporter": "python",
   "pygments_lexer": "ipython3",
   "version": "3.8.19"
  }
 },
 "nbformat": 4,
 "nbformat_minor": 5
}
